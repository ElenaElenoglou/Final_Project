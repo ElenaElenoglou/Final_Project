{
 "cells": [
  {
   "cell_type": "markdown",
   "metadata": {},
   "source": [
    "# Recommendation System"
   ]
  },
  {
   "cell_type": "code",
   "execution_count": 2,
   "metadata": {
    "colab": {
     "base_uri": "https://localhost:8080/"
    },
    "id": "FHwWgBCi4pjs",
    "outputId": "3bb060ca-213f-4593-b723-396fbede1d05"
   },
   "outputs": [
    {
     "name": "stdout",
     "output_type": "stream",
     "text": [
      "Requirement already satisfied: pandas-gbq in c:\\users\\elena\\anaconda3\\lib\\site-packages (0.15.0)\n",
      "Requirement already satisfied: google-cloud-bigquery[bqstorage,pandas]!=2.4.*,<3.0.0dev,>=1.11.1 in c:\\users\\elena\\anaconda3\\lib\\site-packages (from pandas-gbq) (2.24.0)\n",
      "Requirement already satisfied: setuptools in c:\\users\\elena\\anaconda3\\lib\\site-packages (from pandas-gbq) (50.3.1.post20201107)\n",
      "Requirement already satisfied: pandas>=0.23.2 in c:\\users\\elena\\anaconda3\\lib\\site-packages (from pandas-gbq) (1.1.3)\n",
      "Requirement already satisfied: pydata-google-auth in c:\\users\\elena\\anaconda3\\lib\\site-packages (from pandas-gbq) (1.2.0)\n",
      "Requirement already satisfied: google-auth in c:\\users\\elena\\anaconda3\\lib\\site-packages (from pandas-gbq) (1.34.0)\n",
      "Requirement already satisfied: google-auth-oauthlib in c:\\users\\elena\\anaconda3\\lib\\site-packages (from pandas-gbq) (0.4.5)\n",
      "Requirement already satisfied: packaging>=14.3 in c:\\users\\elena\\anaconda3\\lib\\site-packages (from google-cloud-bigquery[bqstorage,pandas]!=2.4.*,<3.0.0dev,>=1.11.1->pandas-gbq) (20.4)\n",
      "Requirement already satisfied: grpcio<2.0dev,>=1.38.1 in c:\\users\\elena\\anaconda3\\lib\\site-packages (from google-cloud-bigquery[bqstorage,pandas]!=2.4.*,<3.0.0dev,>=1.11.1->pandas-gbq) (1.39.0)\n",
      "Requirement already satisfied: requests<3.0.0dev,>=2.18.0 in c:\\users\\elena\\anaconda3\\lib\\site-packages (from google-cloud-bigquery[bqstorage,pandas]!=2.4.*,<3.0.0dev,>=1.11.1->pandas-gbq) (2.24.0)\n",
      "Requirement already satisfied: google-resumable-media<3.0dev,>=0.6.0 in c:\\users\\elena\\anaconda3\\lib\\site-packages (from google-cloud-bigquery[bqstorage,pandas]!=2.4.*,<3.0.0dev,>=1.11.1->pandas-gbq) (1.3.3)\n",
      "Requirement already satisfied: protobuf>=3.12.0 in c:\\users\\elena\\anaconda3\\lib\\site-packages (from google-cloud-bigquery[bqstorage,pandas]!=2.4.*,<3.0.0dev,>=1.11.1->pandas-gbq) (3.16.0)\n",
      "Requirement already satisfied: google-api-core[grpc]<3.0.0dev,>=1.29.0 in c:\\users\\elena\\anaconda3\\lib\\site-packages (from google-cloud-bigquery[bqstorage,pandas]!=2.4.*,<3.0.0dev,>=1.11.1->pandas-gbq) (1.31.1)\n",
      "Requirement already satisfied: google-cloud-core<3.0.0dev,>=1.4.1 in c:\\users\\elena\\anaconda3\\lib\\site-packages (from google-cloud-bigquery[bqstorage,pandas]!=2.4.*,<3.0.0dev,>=1.11.1->pandas-gbq) (1.7.2)\n",
      "Requirement already satisfied: proto-plus>=1.10.0 in c:\\users\\elena\\anaconda3\\lib\\site-packages (from google-cloud-bigquery[bqstorage,pandas]!=2.4.*,<3.0.0dev,>=1.11.1->pandas-gbq) (1.19.0)\n",
      "Requirement already satisfied: pyarrow<6.0dev,>=1.0.0; extra == \"bqstorage\" in c:\\users\\elena\\anaconda3\\lib\\site-packages (from google-cloud-bigquery[bqstorage,pandas]!=2.4.*,<3.0.0dev,>=1.11.1->pandas-gbq) (5.0.0)\n",
      "Requirement already satisfied: google-cloud-bigquery-storage<3.0.0dev,>=2.0.0; extra == \"bqstorage\" in c:\\users\\elena\\anaconda3\\lib\\site-packages (from google-cloud-bigquery[bqstorage,pandas]!=2.4.*,<3.0.0dev,>=1.11.1->pandas-gbq) (2.6.3)\n",
      "Requirement already satisfied: pytz>=2017.2 in c:\\users\\elena\\anaconda3\\lib\\site-packages (from pandas>=0.23.2->pandas-gbq) (2020.1)\n",
      "Requirement already satisfied: python-dateutil>=2.7.3 in c:\\users\\elena\\anaconda3\\lib\\site-packages (from pandas>=0.23.2->pandas-gbq) (2.8.1)\n",
      "Requirement already satisfied: numpy>=1.15.4 in c:\\users\\elena\\anaconda3\\lib\\site-packages (from pandas>=0.23.2->pandas-gbq) (1.19.2)\n",
      "Requirement already satisfied: six>=1.9.0 in c:\\users\\elena\\anaconda3\\lib\\site-packages (from google-auth->pandas-gbq) (1.15.0)\n",
      "Requirement already satisfied: cachetools<5.0,>=2.0.0 in c:\\users\\elena\\anaconda3\\lib\\site-packages (from google-auth->pandas-gbq) (4.2.2)\n",
      "Requirement already satisfied: pyasn1-modules>=0.2.1 in c:\\users\\elena\\anaconda3\\lib\\site-packages (from google-auth->pandas-gbq) (0.2.8)\n",
      "Requirement already satisfied: rsa<5,>=3.1.4; python_version >= \"3.6\" in c:\\users\\elena\\anaconda3\\lib\\site-packages (from google-auth->pandas-gbq) (4.7.2)\n",
      "Requirement already satisfied: requests-oauthlib>=0.7.0 in c:\\users\\elena\\anaconda3\\lib\\site-packages (from google-auth-oauthlib->pandas-gbq) (1.3.0)\n",
      "Requirement already satisfied: pyparsing>=2.0.2 in c:\\users\\elena\\anaconda3\\lib\\site-packages (from packaging>=14.3->google-cloud-bigquery[bqstorage,pandas]!=2.4.*,<3.0.0dev,>=1.11.1->pandas-gbq) (2.4.7)\n",
      "Requirement already satisfied: idna<3,>=2.5 in c:\\users\\elena\\anaconda3\\lib\\site-packages (from requests<3.0.0dev,>=2.18.0->google-cloud-bigquery[bqstorage,pandas]!=2.4.*,<3.0.0dev,>=1.11.1->pandas-gbq) (2.10)\n",
      "Requirement already satisfied: chardet<4,>=3.0.2 in c:\\users\\elena\\anaconda3\\lib\\site-packages (from requests<3.0.0dev,>=2.18.0->google-cloud-bigquery[bqstorage,pandas]!=2.4.*,<3.0.0dev,>=1.11.1->pandas-gbq) (3.0.4)\n",
      "Requirement already satisfied: urllib3!=1.25.0,!=1.25.1,<1.26,>=1.21.1 in c:\\users\\elena\\anaconda3\\lib\\site-packages (from requests<3.0.0dev,>=2.18.0->google-cloud-bigquery[bqstorage,pandas]!=2.4.*,<3.0.0dev,>=1.11.1->pandas-gbq) (1.25.11)\n",
      "Requirement already satisfied: certifi>=2017.4.17 in c:\\users\\elena\\anaconda3\\lib\\site-packages (from requests<3.0.0dev,>=2.18.0->google-cloud-bigquery[bqstorage,pandas]!=2.4.*,<3.0.0dev,>=1.11.1->pandas-gbq) (2020.6.20)\n",
      "Requirement already satisfied: google-crc32c<2.0dev,>=1.0; python_version >= \"3.5\" in c:\\users\\elena\\anaconda3\\lib\\site-packages (from google-resumable-media<3.0dev,>=0.6.0->google-cloud-bigquery[bqstorage,pandas]!=2.4.*,<3.0.0dev,>=1.11.1->pandas-gbq) (1.1.2)\n",
      "Requirement already satisfied: googleapis-common-protos<2.0dev,>=1.6.0 in c:\\users\\elena\\anaconda3\\lib\\site-packages (from google-api-core[grpc]<3.0.0dev,>=1.29.0->google-cloud-bigquery[bqstorage,pandas]!=2.4.*,<3.0.0dev,>=1.11.1->pandas-gbq) (1.53.0)\n",
      "Requirement already satisfied: libcst>=0.2.5 in c:\\users\\elena\\anaconda3\\lib\\site-packages (from google-cloud-bigquery-storage<3.0.0dev,>=2.0.0; extra == \"bqstorage\"->google-cloud-bigquery[bqstorage,pandas]!=2.4.*,<3.0.0dev,>=1.11.1->pandas-gbq) (0.3.20)\n",
      "Requirement already satisfied: pyasn1<0.5.0,>=0.4.6 in c:\\users\\elena\\anaconda3\\lib\\site-packages (from pyasn1-modules>=0.2.1->google-auth->pandas-gbq) (0.4.8)\n",
      "Requirement already satisfied: oauthlib>=3.0.0 in c:\\users\\elena\\anaconda3\\lib\\site-packages (from requests-oauthlib>=0.7.0->google-auth-oauthlib->pandas-gbq) (3.1.1)\n",
      "Requirement already satisfied: cffi>=1.0.0 in c:\\users\\elena\\anaconda3\\lib\\site-packages (from google-crc32c<2.0dev,>=1.0; python_version >= \"3.5\"->google-resumable-media<3.0dev,>=0.6.0->google-cloud-bigquery[bqstorage,pandas]!=2.4.*,<3.0.0dev,>=1.11.1->pandas-gbq) (1.14.3)\n",
      "Requirement already satisfied: typing-inspect>=0.4.0 in c:\\users\\elena\\anaconda3\\lib\\site-packages (from libcst>=0.2.5->google-cloud-bigquery-storage<3.0.0dev,>=2.0.0; extra == \"bqstorage\"->google-cloud-bigquery[bqstorage,pandas]!=2.4.*,<3.0.0dev,>=1.11.1->pandas-gbq) (0.7.1)\n",
      "Requirement already satisfied: typing-extensions>=3.7.4.2 in c:\\users\\elena\\anaconda3\\lib\\site-packages (from libcst>=0.2.5->google-cloud-bigquery-storage<3.0.0dev,>=2.0.0; extra == \"bqstorage\"->google-cloud-bigquery[bqstorage,pandas]!=2.4.*,<3.0.0dev,>=1.11.1->pandas-gbq) (3.7.4.3)\n",
      "Requirement already satisfied: pyyaml>=5.2 in c:\\users\\elena\\anaconda3\\lib\\site-packages (from libcst>=0.2.5->google-cloud-bigquery-storage<3.0.0dev,>=2.0.0; extra == \"bqstorage\"->google-cloud-bigquery[bqstorage,pandas]!=2.4.*,<3.0.0dev,>=1.11.1->pandas-gbq) (5.3.1)\n",
      "Requirement already satisfied: pycparser in c:\\users\\elena\\anaconda3\\lib\\site-packages (from cffi>=1.0.0->google-crc32c<2.0dev,>=1.0; python_version >= \"3.5\"->google-resumable-media<3.0dev,>=0.6.0->google-cloud-bigquery[bqstorage,pandas]!=2.4.*,<3.0.0dev,>=1.11.1->pandas-gbq) (2.20)\n",
      "Requirement already satisfied: mypy-extensions>=0.3.0 in c:\\users\\elena\\anaconda3\\lib\\site-packages (from typing-inspect>=0.4.0->libcst>=0.2.5->google-cloud-bigquery-storage<3.0.0dev,>=2.0.0; extra == \"bqstorage\"->google-cloud-bigquery[bqstorage,pandas]!=2.4.*,<3.0.0dev,>=1.11.1->pandas-gbq) (0.4.3)\n"
     ]
    }
   ],
   "source": [
    "!pip install pandas-gbq"
   ]
  },
  {
   "cell_type": "code",
   "execution_count": 3,
   "metadata": {
    "id": "8WI95U_kX6GJ"
   },
   "outputs": [
    {
     "name": "stderr",
     "output_type": "stream",
     "text": [
      "[nltk_data] Downloading package stopwords to\n",
      "[nltk_data]     C:\\Users\\elena\\AppData\\Roaming\\nltk_data...\n",
      "[nltk_data]   Package stopwords is already up-to-date!\n"
     ]
    }
   ],
   "source": [
    "# Imporing libraries\n",
    "\n",
    "import pandas as pd\n",
    "import numpy as np\n",
    "from google.oauth2 import service_account\n",
    "\n",
    "from sklearn.feature_extraction.text import TfidfVectorizer\n",
    "import nltk\n",
    "from nltk.corpus import stopwords\n",
    "nltk.download('stopwords')\n",
    "\n",
    "from sklearn.metrics.pairwise import linear_kernel"
   ]
  },
  {
   "cell_type": "code",
   "execution_count": 4,
   "metadata": {
    "id": "lXO0M8YNXC-n"
   },
   "outputs": [],
   "source": [
    "# Reading dataset\n",
    "TABLE = 'jedha_recommendation.user_view_videos_enriched_v2'\n",
    "def query_db(query):\n",
    "    return pd.io.gbq.read_gbq(query.format(table = TABLE), dialect=\"standard\", project_id='salto-datalab-pid2')"
   ]
  },
  {
   "cell_type": "markdown",
   "metadata": {},
   "source": [
    "The assumptions to determine if the program is liked by a profile:\n",
    "* The program was seen for over an hour,\n",
    "* The program was viewed at 75%,\n",
    "* More than 5 episodes of the program have been seen,\n",
    "If one of these criteria is met, the program can be considered to be liked.\n",
    "\n",
    "Here are the details of the important fields:\n",
    "* count_profile_like: number of profiles who liked the program,\n",
    "* count_profile_not_like: number of profiles who did not like the program (the profile started to watch the program, but did not fulfill one of the criteria),\n",
    "* count_profile_view: number of profiles having watched the program (excluding views less than 30 seconds),\n",
    "* ratio_liked: ratio between count_profile_like and count_profile_not_like"
   ]
  },
  {
   "cell_type": "code",
   "execution_count": 5,
   "metadata": {
    "colab": {
     "base_uri": "https://localhost:8080/",
     "height": 216
    },
    "id": "90sM_TgUZLfn",
    "outputId": "70cacd63-a6b3-41b7-fc0d-591f103bafda"
   },
   "outputs": [
    {
     "data": {
      "text/html": [
       "<div>\n",
       "<style scoped>\n",
       "    .dataframe tbody tr th:only-of-type {\n",
       "        vertical-align: middle;\n",
       "    }\n",
       "\n",
       "    .dataframe tbody tr th {\n",
       "        vertical-align: top;\n",
       "    }\n",
       "\n",
       "    .dataframe thead th {\n",
       "        text-align: right;\n",
       "    }\n",
       "</style>\n",
       "<table border=\"1\" class=\"dataframe\">\n",
       "  <thead>\n",
       "    <tr style=\"text-align: right;\">\n",
       "      <th></th>\n",
       "      <th>program_id</th>\n",
       "      <th>title</th>\n",
       "      <th>tag_genre</th>\n",
       "      <th>tag_sous_genre</th>\n",
       "      <th>mean_age</th>\n",
       "      <th>count_episodes</th>\n",
       "      <th>mean_episode_duration</th>\n",
       "      <th>count_profile_adult</th>\n",
       "      <th>count_profile_kid</th>\n",
       "      <th>count_profile_home</th>\n",
       "      <th>...</th>\n",
       "      <th>count_profile_m</th>\n",
       "      <th>count_profile_like</th>\n",
       "      <th>count_profile_not_like</th>\n",
       "      <th>count_profile_view</th>\n",
       "      <th>program_seconds_duration</th>\n",
       "      <th>total_seconds_viewed</th>\n",
       "      <th>seconds_viewed_liked</th>\n",
       "      <th>seconds_viewed_not_like</th>\n",
       "      <th>program_description</th>\n",
       "      <th>ratio_liked</th>\n",
       "    </tr>\n",
       "  </thead>\n",
       "  <tbody>\n",
       "    <tr>\n",
       "      <th>563</th>\n",
       "      <td>48070</td>\n",
       "      <td>Monsieur Bout-de-Bois</td>\n",
       "      <td>jeunesse</td>\n",
       "      <td>3-5-ans</td>\n",
       "      <td>34.0</td>\n",
       "      <td>1.0</td>\n",
       "      <td>1640.0</td>\n",
       "      <td>182</td>\n",
       "      <td>15</td>\n",
       "      <td>61</td>\n",
       "      <td>...</td>\n",
       "      <td>42</td>\n",
       "      <td>227</td>\n",
       "      <td>33</td>\n",
       "      <td>260</td>\n",
       "      <td>1640.0</td>\n",
       "      <td>561547.0</td>\n",
       "      <td>541920.0</td>\n",
       "      <td>19627.0</td>\n",
       "      <td>Monsieur Bout-de-Bois vit heureux avec sa femm...</td>\n",
       "      <td>87.31</td>\n",
       "    </tr>\n",
       "    <tr>\n",
       "      <th>347</th>\n",
       "      <td>47490</td>\n",
       "      <td>Meurtres au pays des Maures</td>\n",
       "      <td>telefilms</td>\n",
       "      <td>drame,policier</td>\n",
       "      <td>49.0</td>\n",
       "      <td>1.0</td>\n",
       "      <td>5428.0</td>\n",
       "      <td>535</td>\n",
       "      <td>0</td>\n",
       "      <td>7</td>\n",
       "      <td>...</td>\n",
       "      <td>157</td>\n",
       "      <td>471</td>\n",
       "      <td>72</td>\n",
       "      <td>543</td>\n",
       "      <td>5428.0</td>\n",
       "      <td>2983475.0</td>\n",
       "      <td>2852360.0</td>\n",
       "      <td>131115.0</td>\n",
       "      <td>Au coeur du massif de La Sainte Victoire, théâ...</td>\n",
       "      <td>86.74</td>\n",
       "    </tr>\n",
       "  </tbody>\n",
       "</table>\n",
       "<p>2 rows × 21 columns</p>\n",
       "</div>"
      ],
      "text/plain": [
       "     program_id                        title  tag_genre  tag_sous_genre  \\\n",
       "563       48070        Monsieur Bout-de-Bois   jeunesse         3-5-ans   \n",
       "347       47490  Meurtres au pays des Maures  telefilms  drame,policier   \n",
       "\n",
       "     mean_age  count_episodes  mean_episode_duration  count_profile_adult  \\\n",
       "563      34.0             1.0                 1640.0                  182   \n",
       "347      49.0             1.0                 5428.0                  535   \n",
       "\n",
       "     count_profile_kid  count_profile_home  ...  count_profile_m  \\\n",
       "563                 15                  61  ...               42   \n",
       "347                  0                   7  ...              157   \n",
       "\n",
       "     count_profile_like  count_profile_not_like  count_profile_view  \\\n",
       "563                 227                      33                 260   \n",
       "347                 471                      72                 543   \n",
       "\n",
       "     program_seconds_duration  total_seconds_viewed  seconds_viewed_liked  \\\n",
       "563                    1640.0              561547.0              541920.0   \n",
       "347                    5428.0             2983475.0             2852360.0   \n",
       "\n",
       "     seconds_viewed_not_like  \\\n",
       "563                  19627.0   \n",
       "347                 131115.0   \n",
       "\n",
       "                                   program_description ratio_liked  \n",
       "563  Monsieur Bout-de-Bois vit heureux avec sa femm...       87.31  \n",
       "347  Au coeur du massif de La Sainte Victoire, théâ...       86.74  \n",
       "\n",
       "[2 rows x 21 columns]"
      ]
     },
     "execution_count": 5,
     "metadata": {},
     "output_type": "execute_result"
    }
   ],
   "source": [
    "DATASET = \"\"\"\n",
    "SELECT \n",
    "    program.program_id,\n",
    "    program.title,\n",
    "    tag_genre, \n",
    "    tag_sous_genre,\n",
    "    ROUND(mean_age, 0) as mean_age,\n",
    "    count_episodes,\n",
    "    ROUND(MAX(program_total_duration) / count_episodes, 2) as mean_episode_duration,\n",
    "    \n",
    "    SUM(CASE WHEN profile_type = 'DEFAULT_ADULT' OR profile_type = 'STANDARD_ADULT' THEN 1 ELSE 0 END) as count_profile_adult,\n",
    "    SUM(CASE WHEN profile_type = 'DEFAULT_KID' OR profile_type = 'STANDARD_KID' THEN 1 ELSE 0 END) as count_profile_kid,\n",
    "    SUM(CASE WHEN profile_type = 'DEFAULT_HOME' THEN 1 ELSE 0 END) as count_profile_home,\n",
    "    \n",
    "    SUM(CASE WHEN gender = 'f' THEN 1 ELSE 0 END) as count_profile_f,\n",
    "    SUM(CASE WHEN gender = 'm' THEN 1 ELSE 0 END) as count_profile_m,\n",
    "    SUM(CASE WHEN count_viewed = 1 THEN 1 ELSE 0 END) as count_profile_like,\n",
    "    SUM(CASE WHEN count_viewed = 0 THEN 1 ELSE 0 END) as count_profile_not_like,\n",
    "    COUNT(count_viewed) as count_profile_view,\n",
    "    ROUND(MAX(program_total_duration), 2) as program_seconds_duration, \n",
    "    ROUND(SUM(total_seconds_viewed), 2) as total_seconds_viewed, \n",
    "    ROUND(SUM(CASE WHEN count_viewed = 1 THEN total_seconds_viewed ELSE 0 END), 2) as seconds_viewed_liked,\n",
    "    ROUND(SUM(CASE WHEN count_viewed = 0 THEN total_seconds_viewed ELSE 0 END), 2) as seconds_viewed_not_like,\n",
    "    program_description\n",
    "\n",
    "FROM (\n",
    "    # Generating 'count_viewed' (= 1 if viewed for more than 1 hour or 3/4 of program duration)\n",
    "    # Seconds view of each profile on a program (keeping only seconds viewed > 120s.)\n",
    "    SELECT \n",
    "        pid,\n",
    "        gender,\n",
    "        profile_type,\n",
    "        uv.program_id,\n",
    "        AVG(count_episodes) as count_episodes,\n",
    "        mean_age,\n",
    "        SUM(seconds_viewed) as total_seconds_viewed, \n",
    "        MIN(program.program_total_duration) as program_total_duration,\n",
    "        CASE \n",
    "            # IF viewed more than 1 hour\n",
    "            # WHEN SUM(seconds_viewed) > 3600\n",
    "            # IF viewed 75% of program length\n",
    "            WHEN SUM(seconds_viewed) / MIN(program.program_total_duration) > 0.75\n",
    "            # IF viewed more than 4 episodes\n",
    "            OR SUM(seconds_viewed) > 4 * (MIN(program.program_total_duration) / AVG(count_episodes))\n",
    "            THEN 1 \n",
    "            ELSE 0 \n",
    "        END AS count_viewed\n",
    "    FROM {table} uv\n",
    "    LEFT JOIN (\n",
    "        # Duration of a program\n",
    "        SELECT \n",
    "            program_id,\n",
    "            COUNT(video_id) as count_episodes,\n",
    "            AVG(mean_age) as mean_age,\n",
    "            SUM(duration) as program_total_duration\n",
    "        FROM (\n",
    "            # Duration of each video\n",
    "            SELECT \n",
    "                program_id,\n",
    "                video_id,\n",
    "                AVG(age) as mean_age,\n",
    "                MAX(video_duration) as duration\n",
    "            FROM {table}\n",
    "            WHERE video_format IN ('preview', 'svod', 'freevod', 'replay')\n",
    "            GROUP BY program_id, video_id\n",
    "        )\n",
    "        GROUP BY program_id\n",
    "        ORDER BY program_total_duration desc\n",
    "    ) program ON program.program_id  = uv.program_id\n",
    "    WHERE video_format IN ('preview', 'svod', 'freevod', 'replay')\n",
    "    GROUP BY pid, program_id, mean_age, gender, profile_type\n",
    "    HAVING total_seconds_viewed > 120\n",
    ") stats\n",
    "LEFT JOIN (\n",
    "    SELECT \n",
    "        program_id, \n",
    "        MIN(program_title) as title,\n",
    "        tag_genre, \n",
    "        tag_sous_genre, \n",
    "        program_description\n",
    "    FROM {table}\n",
    "    GROUP BY program_id, tag_genre, tag_sous_genre, program_description\n",
    ") program ON program.program_id = stats.program_id\n",
    "GROUP BY program.program_id, program.title, tag_genre, tag_sous_genre, mean_age, count_episodes, program_description\n",
    "HAVING count_profile_view >= 50\n",
    "ORDER BY count_profile_like desc\n",
    "\"\"\"\n",
    "dataset = query_db(DATASET)\n",
    "dataset['ratio_liked'] = round((dataset.count_profile_like / dataset.count_profile_view) * 100, 2)\n",
    "dataset.sort_values(by='ratio_liked', ascending=False).head(2)"
   ]
  },
  {
   "cell_type": "code",
   "execution_count": 6,
   "metadata": {},
   "outputs": [],
   "source": [
    "# Saving filtered dataset\n",
    "dataset.to_csv('dataset.csv', index = False)"
   ]
  },
  {
   "cell_type": "markdown",
   "metadata": {},
   "source": [
    "The NLP model will be based on the 3 following features: \n",
    "* program_id \n",
    "* title \n",
    "* program_description"
   ]
  },
  {
   "cell_type": "code",
   "execution_count": 7,
   "metadata": {
    "colab": {
     "base_uri": "https://localhost:8080/",
     "height": 204
    },
    "id": "WKhGrxvIiS_P",
    "outputId": "6ed98e17-0059-4172-da74-5ccc6d6c669e"
   },
   "outputs": [
    {
     "data": {
      "text/html": [
       "<div>\n",
       "<style scoped>\n",
       "    .dataframe tbody tr th:only-of-type {\n",
       "        vertical-align: middle;\n",
       "    }\n",
       "\n",
       "    .dataframe tbody tr th {\n",
       "        vertical-align: top;\n",
       "    }\n",
       "\n",
       "    .dataframe thead th {\n",
       "        text-align: right;\n",
       "    }\n",
       "</style>\n",
       "<table border=\"1\" class=\"dataframe\">\n",
       "  <thead>\n",
       "    <tr style=\"text-align: right;\">\n",
       "      <th></th>\n",
       "      <th>program_id</th>\n",
       "      <th>title</th>\n",
       "      <th>program_description</th>\n",
       "    </tr>\n",
       "  </thead>\n",
       "  <tbody>\n",
       "    <tr>\n",
       "      <th>0</th>\n",
       "      <td>50753</td>\n",
       "      <td>Les Marseillais</td>\n",
       "      <td>Pour cette nouvelle saison, la grande famille ...</td>\n",
       "    </tr>\n",
       "    <tr>\n",
       "      <th>1</th>\n",
       "      <td>50636</td>\n",
       "      <td>La Villa des Cœurs Brisés</td>\n",
       "      <td>Depuis 5 saisons déjà, des cœurs brisés s’envo...</td>\n",
       "    </tr>\n",
       "    <tr>\n",
       "      <th>2</th>\n",
       "      <td>47981</td>\n",
       "      <td>Ici tout commence</td>\n",
       "      <td>L’institut Auguste Armand est l’une des meille...</td>\n",
       "    </tr>\n",
       "    <tr>\n",
       "      <th>3</th>\n",
       "      <td>46079</td>\n",
       "      <td>Clem</td>\n",
       "      <td>Clem se réveille après avoir passé 6 ans dans ...</td>\n",
       "    </tr>\n",
       "    <tr>\n",
       "      <th>4</th>\n",
       "      <td>49623</td>\n",
       "      <td>Demain nous appartient</td>\n",
       "      <td>La série \"Demain nous appartient\" se déroule à...</td>\n",
       "    </tr>\n",
       "  </tbody>\n",
       "</table>\n",
       "</div>"
      ],
      "text/plain": [
       "   program_id                      title  \\\n",
       "0       50753            Les Marseillais   \n",
       "1       50636  La Villa des Cœurs Brisés   \n",
       "2       47981          Ici tout commence   \n",
       "3       46079                       Clem   \n",
       "4       49623     Demain nous appartient   \n",
       "\n",
       "                                 program_description  \n",
       "0  Pour cette nouvelle saison, la grande famille ...  \n",
       "1  Depuis 5 saisons déjà, des cœurs brisés s’envo...  \n",
       "2  L’institut Auguste Armand est l’une des meille...  \n",
       "3  Clem se réveille après avoir passé 6 ans dans ...  \n",
       "4  La série \"Demain nous appartient\" se déroule à...  "
      ]
     },
     "execution_count": 7,
     "metadata": {},
     "output_type": "execute_result"
    }
   ],
   "source": [
    "# Keeping the selected features\n",
    "dataset = dataset[['program_id', 'title', 'program_description']]\n",
    "dataset.head()"
   ]
  },
  {
   "cell_type": "code",
   "execution_count": 8,
   "metadata": {
    "colab": {
     "base_uri": "https://localhost:8080/",
     "height": 204
    },
    "id": "e4PsyteAFPEn",
    "outputId": "4d1d42b6-3f10-429a-8b22-a3f2d70375fb"
   },
   "outputs": [
    {
     "data": {
      "text/html": [
       "<div>\n",
       "<style scoped>\n",
       "    .dataframe tbody tr th:only-of-type {\n",
       "        vertical-align: middle;\n",
       "    }\n",
       "\n",
       "    .dataframe tbody tr th {\n",
       "        vertical-align: top;\n",
       "    }\n",
       "\n",
       "    .dataframe thead th {\n",
       "        text-align: right;\n",
       "    }\n",
       "</style>\n",
       "<table border=\"1\" class=\"dataframe\">\n",
       "  <thead>\n",
       "    <tr style=\"text-align: right;\">\n",
       "      <th></th>\n",
       "      <th>program_id</th>\n",
       "      <th>title</th>\n",
       "      <th>program_description</th>\n",
       "    </tr>\n",
       "  </thead>\n",
       "  <tbody>\n",
       "    <tr>\n",
       "      <th>0</th>\n",
       "      <td>50753</td>\n",
       "      <td>Les Marseillais</td>\n",
       "      <td>Pour cette nouvelle saison, la grande famille ...</td>\n",
       "    </tr>\n",
       "    <tr>\n",
       "      <th>1</th>\n",
       "      <td>50636</td>\n",
       "      <td>La Villa des Cœurs Brisés</td>\n",
       "      <td>Depuis 5 saisons déjà, des cœurs brisés s’envo...</td>\n",
       "    </tr>\n",
       "    <tr>\n",
       "      <th>2</th>\n",
       "      <td>47981</td>\n",
       "      <td>Ici tout commence</td>\n",
       "      <td>L’institut Auguste Armand est l’une des meille...</td>\n",
       "    </tr>\n",
       "    <tr>\n",
       "      <th>3</th>\n",
       "      <td>46079</td>\n",
       "      <td>Clem</td>\n",
       "      <td>Clem se réveille après avoir passé 6 ans dans ...</td>\n",
       "    </tr>\n",
       "    <tr>\n",
       "      <th>4</th>\n",
       "      <td>49623</td>\n",
       "      <td>Demain nous appartient</td>\n",
       "      <td>La série \"Demain nous appartient\" se déroule à...</td>\n",
       "    </tr>\n",
       "  </tbody>\n",
       "</table>\n",
       "</div>"
      ],
      "text/plain": [
       "   program_id                      title  \\\n",
       "0       50753            Les Marseillais   \n",
       "1       50636  La Villa des Cœurs Brisés   \n",
       "2       47981          Ici tout commence   \n",
       "3       46079                       Clem   \n",
       "4       49623     Demain nous appartient   \n",
       "\n",
       "                                 program_description  \n",
       "0  Pour cette nouvelle saison, la grande famille ...  \n",
       "1  Depuis 5 saisons déjà, des cœurs brisés s’envo...  \n",
       "2  L’institut Auguste Armand est l’une des meille...  \n",
       "3  Clem se réveille après avoir passé 6 ans dans ...  \n",
       "4  La série \"Demain nous appartient\" se déroule à...  "
      ]
     },
     "execution_count": 8,
     "metadata": {},
     "output_type": "execute_result"
    }
   ],
   "source": [
    "# Removing empty values\n",
    "dataset = dataset.drop_duplicates(subset=['title']) \n",
    "dataset.reset_index(drop=True, inplace=True)\n",
    "dataset.head()"
   ]
  },
  {
   "cell_type": "code",
   "execution_count": 9,
   "metadata": {
    "colab": {
     "base_uri": "https://localhost:8080/"
    },
    "id": "Uyb7sYdcvSlp",
    "outputId": "c292cbf5-0f17-4c4b-d6e9-2ac4243fe45c"
   },
   "outputs": [
    {
     "data": {
      "text/plain": [
       "(1500, 12895)"
      ]
     },
     "execution_count": 9,
     "metadata": {},
     "output_type": "execute_result"
    }
   ],
   "source": [
    "# Transforming all letters to lowercase\n",
    "dataset[\"cleaned_description\"] = dataset[\"program_description\"].str.lower()\n",
    "\n",
    "# Declaring stopwords\n",
    "StopWords = stopwords.words('french')\n",
    "\n",
    "\n",
    "# Defining a TF-IDF Vectorizer Object and Removing all french stop words\n",
    "tfidf = TfidfVectorizer(stop_words= StopWords)\n",
    "\n",
    "# Replacing NaN with an empty string\n",
    "dataset['cleaned_description'] = dataset['cleaned_description'].fillna('')\n",
    "\n",
    "# Constructing the required TF-IDF matrix by fitting and transforming the data\n",
    "tfidf_matrix = tfidf.fit_transform(dataset['cleaned_description'])\n",
    "\n",
    "# Outputing the shape of tfidf_matrix\n",
    "tfidf_matrix.shape"
   ]
  },
  {
   "cell_type": "markdown",
   "metadata": {
    "id": "-PeJS-e05ax9"
   },
   "source": [
    "From the above output, we observe that 12895 different vocabularies or words in our dataset have 1500 programs."
   ]
  },
  {
   "cell_type": "code",
   "execution_count": 10,
   "metadata": {
    "colab": {
     "base_uri": "https://localhost:8080/"
    },
    "id": "5NtLukn32315",
    "outputId": "1b6f2772-2526-4cd3-8d4b-68342dd0e523"
   },
   "outputs": [
    {
     "data": {
      "text/plain": [
       "['couple',\n",
       " 'couples',\n",
       " 'coups',\n",
       " 'coupé',\n",
       " 'coupée',\n",
       " 'coupées',\n",
       " 'coupés',\n",
       " 'cour',\n",
       " 'courage',\n",
       " 'courageuse']"
      ]
     },
     "execution_count": 10,
     "metadata": {},
     "output_type": "execute_result"
    }
   ],
   "source": [
    "# Array mapping from feature integer indices to feature name.\n",
    "tfidf.get_feature_names()[3000:3010]"
   ]
  },
  {
   "cell_type": "markdown",
   "metadata": {
    "id": "PZ_-uSNe4HRR"
   },
   "source": [
    "\n",
    "\n",
    "With this matrix in hand, we can now compute a similarity score.\n",
    "\n",
    "We will be using the cosine similarity to calculate a numeric quantity that denotes the similarity between two movies. \n",
    "\n",
    "Since we have used the TF-IDF vectorizer, calculating the dot product between each vector will directly give us the cosine similarity score."
   ]
  },
  {
   "cell_type": "code",
   "execution_count": 11,
   "metadata": {
    "id": "Tif2pJVi2vWp"
   },
   "outputs": [],
   "source": [
    "# Compute the cosine similarity matrix\n",
    "cosine_sim = linear_kernel(tfidf_matrix, tfidf_matrix)"
   ]
  },
  {
   "cell_type": "markdown",
   "metadata": {
    "id": "4lPJbgHc4vPF"
   },
   "source": [
    "We will define a function that takes in a movie title as an input and outputs a list of the 10 most similar movies. \n",
    "\n",
    "Firstly, for this, we need a reverse mapping of movie titles and DataFrame indices."
   ]
  },
  {
   "cell_type": "code",
   "execution_count": 12,
   "metadata": {
    "id": "LbiL07ny4tJY"
   },
   "outputs": [],
   "source": [
    "# Constructing a reverse map of indices and program titles\n",
    "indices = pd.Series(dataset.index, index=dataset['title'])"
   ]
  },
  {
   "cell_type": "markdown",
   "metadata": {
    "id": "DWnEsc8d5QBM"
   },
   "source": [
    "Now we will define our recommendation function. These are the following steps we'll follow:\n",
    "\n",
    "* Getting the index of the program given its title.\n",
    "\n",
    "* Getting the list of cosine similarity scores for that particular program with all program. Converting it into a list of tuples where the first element is its position, and the second is the similarity score.\n",
    "\n",
    "* Sorting this list of tuples based on the similarity scores; that is, the second element.\n",
    "\n",
    "* Getting the top 10 elements of this list. We will ignore the first element as it refers to self (the program most similar to a particular movie is the program itself).\n",
    "\n",
    "* Returning the titles corresponding to the indices of the top elements."
   ]
  },
  {
   "cell_type": "code",
   "execution_count": 13,
   "metadata": {
    "id": "9Mw1djma5Km4"
   },
   "outputs": [],
   "source": [
    "# Function that takes in a program title as input and outputs most similar programs\n",
    "\n",
    "def get_recommendations(title, cosine_sim=cosine_sim):\n",
    "  \n",
    "    # Getting the index of the progarm that matches the program_id\n",
    "    idx = indices[title]\n",
    "\n",
    "    # Getting the pairwise similarity scores of all programs with that program\n",
    "    sim_scores = list(enumerate(cosine_sim[idx]))\n",
    "\n",
    "    # Sorting the programs based on the similarity scores (ascending order)\n",
    "    # First index and after the similarity\n",
    "    # We start from 1 because 0 its the same element\n",
    "    sim_scores = sorted(sim_scores, key=lambda x: x[1], reverse=True)\n",
    "\n",
    "    # Getting the scores of the 10 most similar programs\n",
    "    sim_scores = sim_scores[1:11]\n",
    "\n",
    "    # Getting the program indices\n",
    "    program_indices = [i[0] for i in sim_scores]\n",
    "\n",
    "    # Returning the top 10 most similar programs\n",
    "    print(sim_scores)\n",
    "    Recommendations = dataset['title'].iloc[program_indices]\n",
    "    Recommendations.to_csv('reccomendations.csv', index = False)\n",
    "    return Recommendations"
   ]
  },
  {
   "cell_type": "markdown",
   "metadata": {},
   "source": [
    "## Getting Recommendations"
   ]
  },
  {
   "cell_type": "code",
   "execution_count": 14,
   "metadata": {
    "colab": {
     "base_uri": "https://localhost:8080/"
    },
    "id": "fCID1vlP6eDp",
    "outputId": "d1e1178c-9251-4f6d-d5bb-1e86f14c75fb"
   },
   "outputs": [
    {
     "data": {
      "text/plain": [
       "0                                         Les Marseillais\n",
       "1                               La Villa des Cœurs Brisés\n",
       "2                                       Ici tout commence\n",
       "3                                                    Clem\n",
       "4                                  Demain nous appartient\n",
       "                              ...                        \n",
       "1495    Conférence de presse du premier ministre Jean ...\n",
       "1496                             Des racines et des ailes\n",
       "1497                                  13h15, le samedi...\n",
       "1498                                          C politique\n",
       "1499                            Décollage pour l'Amérique\n",
       "Name: title, Length: 1500, dtype: object"
      ]
     },
     "execution_count": 14,
     "metadata": {},
     "output_type": "execute_result"
    }
   ],
   "source": [
    "dataset['title']"
   ]
  },
  {
   "cell_type": "code",
   "execution_count": 15,
   "metadata": {
    "colab": {
     "base_uri": "https://localhost:8080/"
    },
    "id": "-lk6_3nU6Zjf",
    "outputId": "d9f9921f-ac9c-4011-ef1f-e58fd22883d0"
   },
   "outputs": [
    {
     "name": "stdout",
     "output_type": "stream",
     "text": [
      "[(30, 0.9999999999999999), (311, 0.19646775947582687), (259, 0.15313054411560545), (1081, 0.14494680052576261), (745, 0.1438644225146043), (822, 0.10404071136426045), (310, 0.08474851810811188), (408, 0.08266542785895836), (50, 0.08126033643617471), (51, 0.07854813078189367)]\n"
     ]
    },
    {
     "data": {
      "text/plain": [
       "30                   Les Marseillais à Dubaï\n",
       "311                           Manon + Julien\n",
       "259     Les Marseillais vs le Reste du monde\n",
       "1081                   Le zapping des fratés\n",
       "745                       Tattoo Confessions\n",
       "822                               En Famille\n",
       "310           JLC Family : Un nouveau départ\n",
       "408                  La Bataille des Couples\n",
       "50                       Tropiques criminels\n",
       "51                             Pékin Express\n",
       "Name: title, dtype: object"
      ]
     },
     "execution_count": 15,
     "metadata": {},
     "output_type": "execute_result"
    }
   ],
   "source": [
    "get_recommendations('Les Marseillais')"
   ]
  },
  {
   "cell_type": "markdown",
   "metadata": {},
   "source": [
    "The first number corresponds to the index of the title and the second the similarity score between the films."
   ]
  },
  {
   "cell_type": "code",
   "execution_count": 16,
   "metadata": {
    "colab": {
     "base_uri": "https://localhost:8080/"
    },
    "id": "cWZlhFMo6io3",
    "outputId": "b611f357-09aa-463f-9a12-7104e9216f49"
   },
   "outputs": [
    {
     "name": "stdout",
     "output_type": "stream",
     "text": [
      "[(1413, 0.1641237699639023), (1116, 0.11037424141107538), (370, 0.10952301010267688), (1428, 0.10034272450817727), (1264, 0.100251409789067), (1355, 0.09811406746046435), (107, 0.09639761142285809), (799, 0.08521583408838361), (1424, 0.07928081740195136), (1073, 0.07476300956260717)]\n"
     ]
    },
    {
     "data": {
      "text/plain": [
       "1413    1941-1945 : au cœur de la guerre du pacifique\n",
       "1116                            Le salaire de la peur\n",
       "370                                          Kon-Tiki\n",
       "1428        L'histoire du film d'horreur par Eli Roth\n",
       "1264            Frank Sinatra : la voix de l'Amérique\n",
       "1355           Dans le sillage des grands navigateurs\n",
       "107                                             Fargo\n",
       "799       Chirurgie à tout prix : l'espoir à domicile\n",
       "1424                                       The movies\n",
       "1073                                  Rosemary's baby\n",
       "Name: title, dtype: object"
      ]
     },
     "execution_count": 16,
     "metadata": {},
     "output_type": "execute_result"
    }
   ],
   "source": [
    "get_recommendations('Décollage pour l\\'Amérique')"
   ]
  },
  {
   "cell_type": "code",
   "execution_count": 17,
   "metadata": {
    "colab": {
     "base_uri": "https://localhost:8080/"
    },
    "id": "lirjzCM_7Aj2",
    "outputId": "df25e136-5af0-48e7-dbb4-71741d045ad9"
   },
   "outputs": [
    {
     "name": "stdout",
     "output_type": "stream",
     "text": [
      "[(1195, 0.11572165153547943), (1010, 0.0965119006267714), (1308, 0.09276980258598755), (601, 0.08729368796594686), (148, 0.07931105381584251), (614, 0.07654265573851121), (978, 0.07638671525671498), (1290, 0.07638671525671498), (1131, 0.0720303113577377), (4, 0.07125426713641853)]\n"
     ]
    },
    {
     "data": {
      "text/plain": [
       "1195                                     Doctor Who\n",
       "1010                       La sirène du Mississippi\n",
       "1308                                Cuisine ouverte\n",
       "601                               La grande lessive\n",
       "148                                           Chefs\n",
       "614                                         WAGS LA\n",
       "978                 ASKIP, le collège se la raconte\n",
       "1290              ASKIP, le collège se la raconte !\n",
       "1131    Cuisine libanaise : chiche ou pois chiche ?\n",
       "4                            Demain nous appartient\n",
       "Name: title, dtype: object"
      ]
     },
     "execution_count": 17,
     "metadata": {},
     "output_type": "execute_result"
    }
   ],
   "source": [
    "get_recommendations('Ici tout commence')"
   ]
  }
 ],
 "metadata": {
  "colab": {
   "collapsed_sections": [],
   "machine_shape": "hm",
   "name": "Salto.ipynb",
   "provenance": []
  },
  "kernelspec": {
   "display_name": "Python 3",
   "language": "python",
   "name": "python3"
  },
  "language_info": {
   "codemirror_mode": {
    "name": "ipython",
    "version": 3
   },
   "file_extension": ".py",
   "mimetype": "text/x-python",
   "name": "python",
   "nbconvert_exporter": "python",
   "pygments_lexer": "ipython3",
   "version": "3.8.5"
  }
 },
 "nbformat": 4,
 "nbformat_minor": 1
}
